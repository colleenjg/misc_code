{
 "cells": [
  {
   "cell_type": "markdown",
   "id": "165a75aa",
   "metadata": {},
   "source": [
    "# Local supervised learning"
   ]
  },
  {
   "cell_type": "code",
   "execution_count": 1,
   "id": "dee8a768",
   "metadata": {},
   "outputs": [],
   "source": [
    "import copy\n",
    "\n",
    "from matplotlib import pyplot as plt\n",
    "from matplotlib import patches\n",
    "import numpy as np"
   ]
  },
  {
   "cell_type": "markdown",
   "id": "68393ad9",
   "metadata": {},
   "source": [
    "## Hyperparameters"
   ]
  },
  {
   "cell_type": "code",
   "execution_count": 2,
   "id": "0ec51209",
   "metadata": {},
   "outputs": [],
   "source": [
    "N_Is = [5, 6, 3]\n",
    "N_O = 4\n",
    "N_EX = 20\n",
    "MAX_EPOCHS = 1000\n",
    "WAIT = MAX_EPOCHS / 10\n",
    "\n",
    "SEED = None"
   ]
  },
  {
   "cell_type": "markdown",
   "id": "f2991ce9",
   "metadata": {},
   "source": [
    "## Functions"
   ]
  },
  {
   "cell_type": "code",
   "execution_count": 3,
   "id": "e5cd6155",
   "metadata": {},
   "outputs": [],
   "source": [
    "def calc_output(Is, ws, b=None):\n",
    "    output = np.sum([np.dot(I, w.T) for I, w in zip(Is, ws)], axis=0)\n",
    "    if b is not None:\n",
    "        output += b\n",
    "    return output\n",
    "\n",
    "def mse_loss(targ, pred):\n",
    "    return ((targ - pred) ** 2).mean()\n",
    "    \n",
    "def weight_norm(ws, Lnorm=2):\n",
    "    return np.sum([np.linalg.norm(w, ord=Lnorm) for w in ws])\n",
    "\n",
    "def calc_all_losses(all_Is, ws, all_Os, b=None):\n",
    "    loss = 0\n",
    "    for Is, Os in zip(all_Is, all_Os):\n",
    "        loss += mse_loss(Os, calc_output(Is, ws, b=b))\n",
    "    return loss\n",
    "\n",
    "def calc_max_output(all_Is, ws, b=None):\n",
    "    return max([calc_output(Is, ws, b=b).max() for Is in all_Is])"
   ]
  },
  {
   "cell_type": "code",
   "execution_count": 46,
   "id": "e1153b51",
   "metadata": {},
   "outputs": [],
   "source": [
    "def hebb_update(Is, ws, O, lr=1e-4, b=None):\n",
    "    for i, I in enumerate(Is):\n",
    "        if ws[i].shape != (len(O), len(I)):\n",
    "            raise ValueError(\n",
    "                f\"w should have shape ({len(O)}, {len(I)}), \"\n",
    "                f\"but found {ws[i].shape}.\")\n",
    "        ws[i] += lr * np.outer(O, I)\n",
    "\n",
    "    if b is not None:\n",
    "        if len(b) != len(O):\n",
    "            raise ValueError(\n",
    "                f\"b should have the length of O ({len(O)}), \"\n",
    "                f\"but found {len(b)}.\"\n",
    "            )\n",
    "        b += lr * O\n",
    "        \n",
    "    return\n",
    "\n",
    "def get_hebb_norm(ws, Lnorm=2):\n",
    "    norm = np.sum([np.sum(w ** Lnorm, axis=-1) for w in ws], axis=0) ** (1 / Lnorm)    \n",
    "    return norm\n",
    "\n",
    "def hebb_norm_update(Is, ws, O, lr=1e-4, Lnorm=2, b=None, norm_pred=False): \n",
    "    # in-place update\n",
    "    hebb_update(Is, ws, O, lr=lr, b=b)\n",
    "\n",
    "    # after in-place update\n",
    "    if Lnorm == 1:\n",
    "        O_for_norm = 0\n",
    "        if norm_pred:\n",
    "            O_for_norm = calc_output(Is, ws, b=b)\n",
    "        \n",
    "        w_norm = np.mean(np.concatenate(Is)) * O_for_norm\n",
    "        if b is not None:\n",
    "            b_norm = O_for_norm\n",
    "    else:\n",
    "        w_norm = get_hebb_norm(ws, Lnorm=Lnorm)\n",
    "        if b is not None:\n",
    "            b_norm = get_hebb_norm([b], Lnorm=Lnorm)\n",
    "    \n",
    "    # adjustment\n",
    "    for i in range(len(ws)):\n",
    "        if Lnorm == 1:\n",
    "            ws[i] -= lr * w_norm.reshape(-1, 1)\n",
    "            # print(get_hebb_norm(ws, Lnorm=Lnorm))\n",
    "        else:\n",
    "            ws[i] /= w_norm.reshape(-1, 1)\n",
    "            print(get_hebb_norm(ws, Lnorm=Lnorm))\n",
    "            import pdb; pdb.set_trace()\n",
    "    if b is not None:\n",
    "        if Lnorm == 1:\n",
    "            b -= lr * b_norm\n",
    "        else:\n",
    "            b /= b_norm\n",
    "\n",
    "    return\n",
    "\n",
    "def get_oja_sub(ws, O):\n",
    "    sub = [np.dot((O ** 2).reshape(1, -1), w) for w in ws]\n",
    "    return sub\n",
    "\n",
    "def oja_update(Is, ws, O, lr=1e-4, b=None, norm_pred=False):\n",
    "    # before in-place update\n",
    "    O_for_norm = O\n",
    "    if norm_pred:\n",
    "        O_for_norm = calc_output(Is, ws, b=b)\n",
    "        \n",
    "    w_subs = get_oja_sub(ws, O_for_norm)\n",
    "    if b is not None:\n",
    "        b_sub = get_oja_sub([b], O_for_norm)[0]\n",
    "      \n",
    "    # in-place update\n",
    "    hebb_update(Is, ws, O, lr=lr, b=b)\n",
    "    \n",
    "    # adjustment\n",
    "    for i in range(len(ws)):\n",
    "        ws[i] -= lr * w_subs[i]\n",
    "    if b is not None:\n",
    "        b -= lr * b_sub\n",
    "        \n",
    "    return"
   ]
  },
  {
   "cell_type": "code",
   "execution_count": 47,
   "id": "aa0e2a37",
   "metadata": {},
   "outputs": [],
   "source": [
    "RULES = {\n",
    "    \"hebb\": (\"Hebbian learning\", hebb_update),\n",
    "    \"hebb_L1_norm\": (\"Norm. Hebbian learning (L1)\\n(norm. based on pred.)\", hebb_norm_update),\n",
    "    \"hebb_L2_norm\": (\"Norm. Hebbian learning (L2)\", hebb_norm_update),\n",
    "    \"oja\": (\"Oja's rule\", oja_update),\n",
    "    \"oja_pred\": (\"Oja's rule\\n(norm. based on pred.)\", oja_update),\n",
    "}"
   ]
  },
  {
   "cell_type": "markdown",
   "id": "ec6bd3fe",
   "metadata": {},
   "source": [
    "## Train"
   ]
  },
  {
   "cell_type": "code",
   "execution_count": 48,
   "id": "f2d1441c-f6d8-4b20-84a3-1e110c3f1f36",
   "metadata": {},
   "outputs": [],
   "source": [
    "def init_data(n_Is=[5, 6, 3], n_O=4, n_ex=20, seed=None, O_factor=1):\n",
    "    randst = np.random.RandomState(seed=seed)\n",
    "    all_Is = [[randst.rand(n_I) for n_I in N_Is] for _ in range(N_EX)]\n",
    "    all_Os = randst.rand(N_EX, N_O) * O_factor\n",
    "    return all_Is, all_Os\n",
    "\n",
    "def compute_records(all_Is, all_Os, ws, b):\n",
    "    records_dict = {\n",
    "        \"ws_L1_norm\": weight_norm(ws, Lnorm=1),\n",
    "        \"b_L1_norm\": weight_norm([b], Lnorm=1),\n",
    "        \"ws_L2_norm\": weight_norm(ws, Lnorm=2),\n",
    "        \"b_L2_norm\": weight_norm([b], Lnorm=2),\n",
    "        \"loss\": calc_all_losses(all_Is, ws, all_Os),\n",
    "        \"max_out\": calc_max_output(all_Is, ws),\n",
    "    }\n",
    "    return records_dict\n",
    "\n",
    "def train(all_Is, all_Os, ws, b, rule=\"hebb\"):\n",
    "    rule_params = dict()\n",
    "    if rule == \"hebb_L1_norm\":\n",
    "        rule_params[\"Lnorm\"] = 1\n",
    "    elif rule == \"hebb_L2_norm\":\n",
    "        rule_params[\"Lnorm\"] = 2\n",
    "    if rule in [\"hebb_L1_norm\", \"oja_pred\"]:\n",
    "        rule_params[\"norm_pred\"] = True\n",
    "    rule_fct = RULES[rule][1]\n",
    "    \n",
    "    for i in range(len(all_Is)):\n",
    "        rule_fct(all_Is[i], ws, all_Os[i], b=b, **rule_params)\n",
    "    loss = calc_all_losses(all_Is, ws, all_Os, b=b)\n",
    "\n",
    "    records_dict = compute_records(all_Is, all_Os, ws, b)\n",
    "\n",
    "    return records_dict\n",
    "\n",
    "def plot_results(all_Is, all_Os, records_dict, ax1D=None, rule=\"hebb\"):\n",
    "\n",
    "    if ax1D is None:\n",
    "        fig, ax1D = plt.subplots(3, 1, sharex=True, sharey=\"row\", figsize=(3, 9))\n",
    "    \n",
    "    best_loss_ep = np.argmin(records_dict[\"loss\"])\n",
    "    best_loss = records_dict[\"loss\"][best_loss_ep]\n",
    "    num_epochs = len(records_dict[\"loss\"])\n",
    "    \n",
    "    # mark best epoch\n",
    "    label = f\"ep. {best_loss_ep}\\n{100 * best_loss / records_dict['loss'][0]:.2f}% of init.\"\n",
    "    for i in range(3):\n",
    "        ax1D[i].axvline(best_loss_ep, ls=\"dashed\", color=\"k\", label=label)\n",
    "        label = None\n",
    "    ax1D[0].legend(fontsize=\"small\")\n",
    "    \n",
    "    # plot losses\n",
    "    ax1D[0].plot(records_dict[\"loss\"])\n",
    "    rect = patches.Rectangle((0, 0), num_epochs, best_loss, lw=0, facecolor=\"red\", alpha=0.25, zorder=-13)\n",
    "    ax1D[0].add_patch(rect)\n",
    "    \n",
    "    # plot parameter norms\n",
    "    for i in [1, 2]:\n",
    "        ax1D[i].plot(records_dict[f\"ws_L{i}_norm\"], label=\"weights\")\n",
    "        ax1D[i].plot(records_dict[f\"b_L{i}_norm\"], label=\"biases\")\n",
    "        ax1D[i].legend(fontsize=\"small\")\n",
    "    \n",
    "    # plot max output\n",
    "    ax1D[3].plot(records_dict[\"max_out\"])\n",
    "    ax1D[3].axhline(all_Os.max(), ls=\"dotted\", color=\"k\", label=\"highest target\\noutput\")\n",
    "    ax1D[3].legend(fontsize=\"small\");\n",
    "\n",
    "    # add titles and axis labels\n",
    "    ax1D[0].set_title(f\"{RULES[rule][0]}\\nbest MSE={best_loss:.2f}\", fontsize=\"medium\", y=1.05);\n",
    "    ax1D[0].set_ylabel(\"Losses\")\n",
    "    ax1D[1].set_ylabel(\"Parameter L1 norms\")\n",
    "    ax1D[2].set_ylabel(\"Parameter L2 norms\")\n",
    "    ax1D[3].set_ylabel(\"Max output\")\n",
    "\n",
    "    for sub_ax in ax1D.ravel():\n",
    "        sub_ax.set_xlabel(\"Epochs\")\n",
    "\n",
    "    return ax1D\n",
    "    \n",
    "def run_rule(all_Is, all_Os, ax1D=None, seed=None, rule=\"hebb\", max_epochs=1000):\n",
    "    randst = np.random.RandomState(seed=seed)\n",
    "\n",
    "    n_Is = [len(Is) for Is in all_Is]\n",
    "    n_O = len(all_Os)\n",
    "    \n",
    "    if rule != \"hebb\":\n",
    "        ws = [randst.normal(0, 0.3, N_O * n_I).reshape(N_O, n_I) for n_I in N_Is]\n",
    "        b = randst.normal(0, 0.3, N_O)\n",
    "    else:\n",
    "        ws = [np.zeros((N_O, n_I)) for n_I in N_Is]\n",
    "        b = np.zeros(N_O)\n",
    "\n",
    "    records_dict = {key: [val] for key, val in compute_records(all_Is, all_Os, ws, b).items()}\n",
    "\n",
    "    best_loss, waited = np.inf, 0\n",
    "    for e in range(max_epochs):\n",
    "        ep_records_dict = train(all_Is, all_Os, ws, b, rule=rule)      \n",
    "        for key, val in ep_records_dict.items():\n",
    "            records_dict[key].append(val)\n",
    "\n",
    "        if ep_records_dict[\"loss\"] < best_loss:\n",
    "            best_loss = ep_records_dict[\"loss\"]\n",
    "        else:\n",
    "            waited += 1\n",
    "            if waited >= WAIT:\n",
    "                break\n",
    "\n",
    "    ax1D = plot_results(all_Is, all_Os, records_dict, ax1D=ax1D, rule=rule)\n",
    "\n",
    "    return ax1D\n",
    "\n",
    "\n",
    "def polish_axes(axes):\n",
    "    for sub_ax in axes.ravel():\n",
    "        sub_ax.spines[[\"right\", \"top\"]].set_visible(False)\n",
    "    for sub_ax in axes[:-1].ravel():\n",
    "        sub_ax.set_xlabel(\"\")\n",
    "    for sub_ax in axes[:, 1:].ravel():\n",
    "        sub_ax.set_ylabel(\"\")"
   ]
  },
  {
   "cell_type": "code",
   "execution_count": 49,
   "id": "8b514cf5-0c3a-4e1a-b008-fb8d251649da",
   "metadata": {},
   "outputs": [
    {
     "name": "stdout",
     "output_type": "stream",
     "text": [
      "[1.08199947 0.90975133 1.00363359 1.14526712]\n",
      "> \u001b[0;32m/tmp/ipykernel_16323/2903443360.py\u001b[0m(42)\u001b[0;36mhebb_norm_update\u001b[0;34m()\u001b[0m\n",
      "\u001b[0;32m     40 \u001b[0;31m\u001b[0;34m\u001b[0m\u001b[0m\n",
      "\u001b[0m\u001b[0;32m     41 \u001b[0;31m    \u001b[0;31m# adjustment\u001b[0m\u001b[0;34m\u001b[0m\u001b[0;34m\u001b[0m\u001b[0m\n",
      "\u001b[0m\u001b[0;32m---> 42 \u001b[0;31m    \u001b[0;32mfor\u001b[0m \u001b[0mi\u001b[0m \u001b[0;32min\u001b[0m \u001b[0mrange\u001b[0m\u001b[0;34m(\u001b[0m\u001b[0mlen\u001b[0m\u001b[0;34m(\u001b[0m\u001b[0mws\u001b[0m\u001b[0;34m)\u001b[0m\u001b[0;34m)\u001b[0m\u001b[0;34m:\u001b[0m\u001b[0;34m\u001b[0m\u001b[0;34m\u001b[0m\u001b[0m\n",
      "\u001b[0m\u001b[0;32m     43 \u001b[0;31m        \u001b[0;32mif\u001b[0m \u001b[0mLnorm\u001b[0m \u001b[0;34m==\u001b[0m \u001b[0;36m1\u001b[0m\u001b[0;34m:\u001b[0m\u001b[0;34m\u001b[0m\u001b[0;34m\u001b[0m\u001b[0m\n",
      "\u001b[0m\u001b[0;32m     44 \u001b[0;31m            \u001b[0mws\u001b[0m\u001b[0;34m[\u001b[0m\u001b[0mi\u001b[0m\u001b[0;34m]\u001b[0m \u001b[0;34m-=\u001b[0m \u001b[0mlr\u001b[0m \u001b[0;34m*\u001b[0m \u001b[0mw_norm\u001b[0m\u001b[0;34m.\u001b[0m\u001b[0mreshape\u001b[0m\u001b[0;34m(\u001b[0m\u001b[0;34m-\u001b[0m\u001b[0;36m1\u001b[0m\u001b[0;34m,\u001b[0m \u001b[0;36m1\u001b[0m\u001b[0;34m)\u001b[0m\u001b[0;34m\u001b[0m\u001b[0;34m\u001b[0m\u001b[0m\n",
      "\u001b[0m\n"
     ]
    },
    {
     "name": "stdin",
     "output_type": "stream",
     "text": [
      "ipdb>  ws[0]\n"
     ]
    },
    {
     "name": "stdout",
     "output_type": "stream",
     "text": [
      "array([[ 0.33723726, -0.07597679,  0.01830529, -0.32481061,  0.47861551],\n",
      "       [ 0.49408911, -0.32646778,  0.1441326 , -0.2121148 ,  0.21454235],\n",
      "       [ 0.18301206,  0.48220742,  0.25978621, -0.11618168,  0.41868704],\n",
      "       [-0.41447748, -0.20013097,  0.02188098,  0.35570785,  0.12430152]])\n"
     ]
    },
    {
     "name": "stdin",
     "output_type": "stream",
     "text": [
      "ipdb>  np.sum(ws[0], axis=1)\n"
     ]
    },
    {
     "name": "stdout",
     "output_type": "stream",
     "text": [
      "array([ 0.43337065,  0.31418147,  1.22751105, -0.1127181 ])\n"
     ]
    },
    {
     "name": "stdin",
     "output_type": "stream",
     "text": [
      "ipdb>  np.sum(ws[0] ** 2, axis=1) + np.sum(ws[1] ** 2, axis=1) + np.sum(ws[2] ** 2, axis=1)\n"
     ]
    },
    {
     "name": "stdout",
     "output_type": "stream",
     "text": [
      "array([1.17072286, 0.82764747, 1.00728039, 1.31163678])\n"
     ]
    },
    {
     "name": "stdin",
     "output_type": "stream",
     "text": [
      "ipdb>  w_norm\n"
     ]
    },
    {
     "name": "stdout",
     "output_type": "stream",
     "text": [
      "array([1.145825  , 0.82422315, 1.00759149, 1.21763512])\n"
     ]
    },
    {
     "name": "stdin",
     "output_type": "stream",
     "text": [
      "ipdb>  np.sum([np.sum(w ** Lnorm, axis=-1) for w in ws], axis=0) ** (1 / Lnorm)\n"
     ]
    },
    {
     "name": "stdout",
     "output_type": "stream",
     "text": [
      "*** NameError: name 'Lnorm' is not defined\n"
     ]
    },
    {
     "name": "stdin",
     "output_type": "stream",
     "text": [
      "ipdb>  np.sum([np.sum(w ** 2, axis=-1) for w in ws], axis=0) ** (1 / 2)\n"
     ]
    },
    {
     "name": "stdout",
     "output_type": "stream",
     "text": [
      "array([1.08199947, 0.90975133, 1.00363359, 1.14526712])\n"
     ]
    },
    {
     "name": "stdin",
     "output_type": "stream",
     "text": [
      "ipdb>  np.sqrt(np.sum(ws[0] ** 2, axis=1) + np.sum(ws[1] ** 2, axis=1) + np.sum(ws[2] ** 2, axis=1))\n"
     ]
    },
    {
     "name": "stdout",
     "output_type": "stream",
     "text": [
      "array([1.08199947, 0.90975133, 1.00363359, 1.14526712])\n"
     ]
    },
    {
     "name": "stdin",
     "output_type": "stream",
     "text": [
      "ipdb>  np.sqrt(np.sum(ws[0] ** 2, axis=1) + np.sum(ws[1] ** 2, axis=1) + np.sum(ws[2] ** 2, axis=1)).mean()\n"
     ]
    },
    {
     "name": "stdout",
     "output_type": "stream",
     "text": [
      "1.0351628770936165\n"
     ]
    },
    {
     "name": "stdin",
     "output_type": "stream",
     "text": [
      "ipdb>  weight_norm(ws, Lnorm=2)\n"
     ]
    },
    {
     "name": "stdout",
     "output_type": "stream",
     "text": [
      "2.889715434665485\n"
     ]
    },
    {
     "name": "stdin",
     "output_type": "stream",
     "text": [
      "ipdb>  ws\n"
     ]
    },
    {
     "name": "stdout",
     "output_type": "stream",
     "text": [
      "[array([[ 0.33723726, -0.07597679,  0.01830529, -0.32481061,  0.47861551],\n",
      "       [ 0.49408911, -0.32646778,  0.1441326 , -0.2121148 ,  0.21454235],\n",
      "       [ 0.18301206,  0.48220742,  0.25978621, -0.11618168,  0.41868704],\n",
      "       [-0.41447748, -0.20013097,  0.02188098,  0.35570785,  0.12430152]]), array([[ 0.228625  ,  0.1585429 , -0.19038066, -0.46651096, -0.28524864,\n",
      "         0.04959312],\n",
      "       [ 0.07201404,  0.09098789,  0.03351119, -0.09869386,  0.25054011,\n",
      "         0.3584652 ],\n",
      "       [-0.0810851 ,  0.27461929, -0.09001914, -0.28917111, -0.0536277 ,\n",
      "         0.24532295],\n",
      "       [-0.45251621, -0.08564256, -0.0486377 ,  0.54264944, -0.18602026,\n",
      "        -0.15356644]]), array([[ 0.47407889, -0.07367328, -0.2665038 ],\n",
      "       [-0.34393987,  0.02782743, -0.17459085],\n",
      "       [ 0.03014692, -0.2272208 , -0.44234122],\n",
      "       [ 0.56492084,  0.19722162, -0.17938044]])]\n"
     ]
    },
    {
     "name": "stdin",
     "output_type": "stream",
     "text": [
      "ipdb>  c\n"
     ]
    },
    {
     "name": "stdout",
     "output_type": "stream",
     "text": [
      "[1.03527169 0.96405946 1.00186126 1.06161339]\n",
      "> \u001b[0;32m/tmp/ipykernel_16323/2903443360.py\u001b[0m(42)\u001b[0;36mhebb_norm_update\u001b[0;34m()\u001b[0m\n",
      "\u001b[0;32m     40 \u001b[0;31m\u001b[0;34m\u001b[0m\u001b[0m\n",
      "\u001b[0m\u001b[0;32m     41 \u001b[0;31m    \u001b[0;31m# adjustment\u001b[0m\u001b[0;34m\u001b[0m\u001b[0;34m\u001b[0m\u001b[0m\n",
      "\u001b[0m\u001b[0;32m---> 42 \u001b[0;31m    \u001b[0;32mfor\u001b[0m \u001b[0mi\u001b[0m \u001b[0;32min\u001b[0m \u001b[0mrange\u001b[0m\u001b[0;34m(\u001b[0m\u001b[0mlen\u001b[0m\u001b[0;34m(\u001b[0m\u001b[0mws\u001b[0m\u001b[0;34m)\u001b[0m\u001b[0;34m)\u001b[0m\u001b[0;34m:\u001b[0m\u001b[0;34m\u001b[0m\u001b[0;34m\u001b[0m\u001b[0m\n",
      "\u001b[0m\u001b[0;32m     43 \u001b[0;31m        \u001b[0;32mif\u001b[0m \u001b[0mLnorm\u001b[0m \u001b[0;34m==\u001b[0m \u001b[0;36m1\u001b[0m\u001b[0;34m:\u001b[0m\u001b[0;34m\u001b[0m\u001b[0;34m\u001b[0m\u001b[0m\n",
      "\u001b[0m\u001b[0;32m     44 \u001b[0;31m            \u001b[0mws\u001b[0m\u001b[0;34m[\u001b[0m\u001b[0mi\u001b[0m\u001b[0;34m]\u001b[0m \u001b[0;34m-=\u001b[0m \u001b[0mlr\u001b[0m \u001b[0;34m*\u001b[0m \u001b[0mw_norm\u001b[0m\u001b[0;34m.\u001b[0m\u001b[0mreshape\u001b[0m\u001b[0;34m(\u001b[0m\u001b[0;34m-\u001b[0m\u001b[0;36m1\u001b[0m\u001b[0;34m,\u001b[0m \u001b[0;36m1\u001b[0m\u001b[0;34m)\u001b[0m\u001b[0;34m\u001b[0m\u001b[0;34m\u001b[0m\u001b[0m\n",
      "\u001b[0m\n"
     ]
    },
    {
     "name": "stdin",
     "output_type": "stream",
     "text": [
      "ipdb>  ws\n"
     ]
    },
    {
     "name": "stdout",
     "output_type": "stream",
     "text": [
      "[array([[ 0.33723726, -0.07597679,  0.01830529, -0.32481061,  0.47861551],\n",
      "       [ 0.49408911, -0.32646778,  0.1441326 , -0.2121148 ,  0.21454235],\n",
      "       [ 0.18301206,  0.48220742,  0.25978621, -0.11618168,  0.41868704],\n",
      "       [-0.41447748, -0.20013097,  0.02188098,  0.35570785,  0.12430152]]), array([[ 0.19952873,  0.13836572, -0.16615161, -0.4071398 , -0.24894607,\n",
      "         0.04328158],\n",
      "       [ 0.08737202,  0.1103923 ,  0.04065791, -0.11974167,  0.30397121,\n",
      "         0.4349128 ],\n",
      "       [-0.08047418,  0.27255023, -0.08934091, -0.28699241, -0.05322365,\n",
      "         0.24347462],\n",
      "       [-0.37163531, -0.07033516, -0.03994439,  0.4456585 , -0.15277176,\n",
      "        -0.1261186 ]]), array([[ 0.47407889, -0.07367328, -0.2665038 ],\n",
      "       [-0.34393987,  0.02782743, -0.17459085],\n",
      "       [ 0.03014692, -0.2272208 , -0.44234122],\n",
      "       [ 0.56492084,  0.19722162, -0.17938044]])]\n"
     ]
    },
    {
     "name": "stdin",
     "output_type": "stream",
     "text": [
      "ipdb>  w_norm\n"
     ]
    },
    {
     "name": "stdout",
     "output_type": "stream",
     "text": [
      "array([1.145825  , 0.82422315, 1.00759149, 1.21763512])\n"
     ]
    },
    {
     "name": "stdin",
     "output_type": "stream",
     "text": [
      "ipdb>  get_hebbian_norm(ws, Lnorm=2)\n"
     ]
    },
    {
     "name": "stdout",
     "output_type": "stream",
     "text": [
      "*** NameError: name 'get_hebbian_norm' is not defined\n"
     ]
    },
    {
     "name": "stdin",
     "output_type": "stream",
     "text": [
      "ipdb>  get_hebb_norm(ws, Lnorm=2)\n"
     ]
    },
    {
     "name": "stdout",
     "output_type": "stream",
     "text": [
      "array([1.03527169, 0.96405946, 1.00186126, 1.06161339])\n"
     ]
    },
    {
     "name": "stdin",
     "output_type": "stream",
     "text": [
      "ipdb>  ws[0] / 1.03527169\n"
     ]
    },
    {
     "name": "stdout",
     "output_type": "stream",
     "text": [
      "array([[ 0.3257476 , -0.07338826,  0.01768163, -0.31374432,  0.46230908],\n",
      "       [ 0.4772555 , -0.31534503,  0.139222  , -0.20488805,  0.20723289],\n",
      "       [ 0.17677685,  0.46577862,  0.2509353 , -0.11222337,  0.40442238],\n",
      "       [-0.40035624, -0.19331251,  0.02113549,  0.34358889,  0.12006657]])\n"
     ]
    },
    {
     "name": "stdin",
     "output_type": "stream",
     "text": [
      "ipdb>  new_norm = get_hebb_norm(ws, Lnorm=2)\n",
      "ipdb>  ws[0].T / new_norm\n"
     ]
    },
    {
     "name": "stdout",
     "output_type": "stream",
     "text": [
      "array([[ 0.32574759,  0.51250896,  0.18267206, -0.39042225],\n",
      "       [-0.07338826, -0.33863864,  0.48131157, -0.18851587],\n",
      "       [ 0.01768163,  0.14950592,  0.25930358,  0.02061106],\n",
      "       [-0.31374432, -0.22002252, -0.11596584,  0.33506346],\n",
      "       [ 0.46230908,  0.22254058,  0.4179092 ,  0.11708737]])\n"
     ]
    },
    {
     "name": "stdin",
     "output_type": "stream",
     "text": [
      "ipdb>  get_hebb_norm(ws[0].T / new_norm, Lnorm=2)\n"
     ]
    },
    {
     "name": "stdout",
     "output_type": "stream",
     "text": [
      "1.325268627267758\n"
     ]
    },
    {
     "name": "stdin",
     "output_type": "stream",
     "text": [
      "ipdb>  get_hebb_norm([ws[0].T / new_norm, ws[1].T / new_norm, ws[2].T / new_norm], Lnorm=2)\n"
     ]
    },
    {
     "name": "stdout",
     "output_type": "stream",
     "text": [
      "*** ValueError: setting an array element with a sequence. The requested array has an inhomogeneous shape after 1 dimensions. The detected shape was (3,) + inhomogeneous part.\n"
     ]
    },
    {
     "name": "stdin",
     "output_type": "stream",
     "text": [
      "ipdb>  ws[1].T / new_norm\n"
     ]
    },
    {
     "name": "stdout",
     "output_type": "stream",
     "text": [
      "array([[ 0.19273078,  0.09062929, -0.08032467, -0.35006653],\n",
      "       [ 0.1336516 ,  0.11450778,  0.27204389, -0.06625308],\n",
      "       [-0.16049082,  0.04217365, -0.08917494, -0.03762612],\n",
      "       [-0.39326855, -0.12420569, -0.28645924,  0.41979359],\n",
      "       [-0.24046449,  0.31530338, -0.05312477, -0.14390527],\n",
      "       [ 0.04180698,  0.45112653,  0.24302229, -0.11879899]])\n"
     ]
    },
    {
     "name": "stdin",
     "output_type": "stream",
     "text": [
      "ipdb>  ws[2].T / new_norm\n"
     ]
    },
    {
     "name": "stdout",
     "output_type": "stream",
     "text": [
      "array([[ 0.45792703, -0.35676209,  0.03009091,  0.53213425],\n",
      "       [-0.07116323,  0.02886485, -0.22679866,  0.18577537],\n",
      "       [-0.25742401, -0.18109967, -0.44151943, -0.16896965]])\n"
     ]
    },
    {
     "name": "stdin",
     "output_type": "stream",
     "text": [
      "ipdb>  new_vals = [ws[0] / new_norm.T, ws[1] / new_norm.T, ws[2] / new_norm.T]\n"
     ]
    },
    {
     "name": "stdout",
     "output_type": "stream",
     "text": [
      "*** ValueError: operands could not be broadcast together with shapes (4,5) (4,)\n"
     ]
    },
    {
     "name": "stdin",
     "output_type": "stream",
     "text": [
      "ipdb>  new_norm = new_norm.reshape(1, -1)\n",
      "ipdb>  get_hebb_norm([ws[0].T / new_norm, ws[1].T / new_norm, ws[2].T / new_norm], Lnorm=2)\n"
     ]
    },
    {
     "name": "stdout",
     "output_type": "stream",
     "text": [
      "*** ValueError: setting an array element with a sequence. The requested array has an inhomogeneous shape after 1 dimensions. The detected shape was (3,) + inhomogeneous part.\n"
     ]
    },
    {
     "name": "stdin",
     "output_type": "stream",
     "text": [
      "ipdb>  get_hebb_norm([ws[0] / new_norm, ws[1] / new_norm, ws[2] / new_norm], Lnorm=2)\n"
     ]
    },
    {
     "name": "stdout",
     "output_type": "stream",
     "text": [
      "*** ValueError: operands could not be broadcast together with shapes (4,5) (1,4)\n"
     ]
    },
    {
     "name": "stdin",
     "output_type": "stream",
     "text": [
      "ipdb>  ws[0].shape\n"
     ]
    },
    {
     "name": "stdout",
     "output_type": "stream",
     "text": [
      "(4, 5)\n"
     ]
    },
    {
     "name": "stdin",
     "output_type": "stream",
     "text": [
      "ipdb>  new_norm.shape\n"
     ]
    },
    {
     "name": "stdout",
     "output_type": "stream",
     "text": [
      "(1, 4)\n"
     ]
    },
    {
     "name": "stdin",
     "output_type": "stream",
     "text": [
      "ipdb>  new_norm = new_norm.reshape(-1, 1)\n",
      "ipdb>  get_hebb_norm([ws[0] / new_norm, ws[1] / new_norm, ws[2] / new_norm], Lnorm=2)\n"
     ]
    },
    {
     "name": "stdout",
     "output_type": "stream",
     "text": [
      "array([1., 1., 1., 1.])\n"
     ]
    },
    {
     "name": "stdin",
     "output_type": "stream",
     "text": [
      "ipdb>  w_norm\n"
     ]
    },
    {
     "name": "stdout",
     "output_type": "stream",
     "text": [
      "array([1.145825  , 0.82422315, 1.00759149, 1.21763512])\n"
     ]
    },
    {
     "name": "stdin",
     "output_type": "stream",
     "text": [
      "ipdb>  exit\n"
     ]
    },
    {
     "data": {
      "image/png": "[encoded data removed]",
      "text/plain": [
       "<Figure size 1500x1200 with 20 Axes>"
      ]
     },
     "metadata": {},
     "output_type": "display_data"
    }
   ],
   "source": [
    "fig, axes = plt.subplots(4, len(RULES), sharex=\"col\", sharey=\"row\", figsize=(3 * len(RULES), 12))\n",
    "\n",
    "all_Is, all_Os = init_data(n_Is=N_Is, n_O=N_O, n_ex=N_EX, seed=SEED, O_factor=2)\n",
    "for r, rule in enumerate(RULES.keys()):\n",
    "    run_rule(all_Is, all_Os, ax1D=axes[:, r], rule=rule, seed=SEED, max_epochs=3000)\n",
    "\n",
    "polish_axes(axes)"
   ]
  },
  {
   "cell_type": "code",
   "execution_count": null,
   "id": "57b0227f-0709-44fc-be41-a18f05eeaa3e",
   "metadata": {},
   "outputs": [],
   "source": []
  }
 ],
 "metadata": {
  "kernelspec": {
   "display_name": "Python 3 (ipykernel)",
   "language": "python",
   "name": "python3"
  },
  "language_info": {
   "codemirror_mode": {
    "name": "ipython",
    "version": 3
   },
   "file_extension": ".py",
   "mimetype": "text/x-python",
   "name": "python",
   "nbconvert_exporter": "python",
   "pygments_lexer": "ipython3",
   "version": "3.11.4"
  }
 },
 "nbformat": 4,
 "nbformat_minor": 5
}
